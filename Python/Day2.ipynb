{
  "nbformat": 4,
  "nbformat_minor": 0,
  "metadata": {
    "colab": {
      "name": "Day2.ipynb",
      "provenance": [],
      "collapsed_sections": []
    },
    "kernelspec": {
      "name": "python3",
      "display_name": "Python 3"
    }
  },
  "cells": [
    {
      "cell_type": "code",
      "metadata": {
        "id": "r1hjA6B7u0LW",
        "colab_type": "code",
        "outputId": "35d8f25f-f964-46e0-9302-99726c2fd040",
        "colab": {
          "base_uri": "https://localhost:8080/",
          "height": 52
        }
      },
      "source": [
        "a=[1,2,3,4]\n",
        "a[0]=1\n",
        "sum=0\n",
        "for i in a:\n",
        "  sum=sum+i\n",
        "print(sum)\n",
        "print(type(a))"
      ],
      "execution_count": 1,
      "outputs": [
        {
          "output_type": "stream",
          "text": [
            "10\n",
            "<class 'list'>\n"
          ],
          "name": "stdout"
        }
      ]
    },
    {
      "cell_type": "code",
      "metadata": {
        "id": "SX47eliju88A",
        "colab_type": "code",
        "outputId": "0cfec27a-87cd-4840-caf6-7bbd0a33e82e",
        "colab": {
          "base_uri": "https://localhost:8080/",
          "height": 139
        }
      },
      "source": [
        "b=[1,2,3,[4,5],6,7]\n",
        "for i in b:\n",
        "  if(type(i)==int):\n",
        "    print(i)\n",
        "  else:\n",
        "      for j in i:\n",
        "        print(\" \"+str(j))"
      ],
      "execution_count": 2,
      "outputs": [
        {
          "output_type": "stream",
          "text": [
            "1\n",
            "2\n",
            "3\n",
            " 4\n",
            " 5\n",
            "6\n",
            "7\n"
          ],
          "name": "stdout"
        }
      ]
    },
    {
      "cell_type": "code",
      "metadata": {
        "id": "ULZlUMOPwjD_",
        "colab_type": "code",
        "outputId": "23cbe978-14c2-4e1d-d978-482b94a0a954",
        "colab": {
          "base_uri": "https://localhost:8080/",
          "height": 139
        }
      },
      "source": [
        "a.extend([1,2,3])\n",
        "for i in a:\n",
        "  print(i)"
      ],
      "execution_count": 3,
      "outputs": [
        {
          "output_type": "stream",
          "text": [
            "1\n",
            "2\n",
            "3\n",
            "4\n",
            "1\n",
            "2\n",
            "3\n"
          ],
          "name": "stdout"
        }
      ]
    },
    {
      "cell_type": "code",
      "metadata": {
        "id": "FpLSKD4KxaGa",
        "colab_type": "code",
        "outputId": "5c873436-d779-412b-9d2a-0b95691b2b33",
        "colab": {
          "base_uri": "https://localhost:8080/",
          "height": 156
        }
      },
      "source": [
        "a.insert(2,'Test')\n",
        "for i in a:\n",
        "  print(i)"
      ],
      "execution_count": 4,
      "outputs": [
        {
          "output_type": "stream",
          "text": [
            "1\n",
            "2\n",
            "Test\n",
            "3\n",
            "4\n",
            "1\n",
            "2\n",
            "3\n"
          ],
          "name": "stdout"
        }
      ]
    },
    {
      "cell_type": "code",
      "metadata": {
        "id": "EMeE6azQxk_0",
        "colab_type": "code",
        "outputId": "9e9fd6a0-7125-4113-8d87-e9b7d46fa88e",
        "colab": {
          "base_uri": "https://localhost:8080/",
          "height": 139
        }
      },
      "source": [
        "a.remove('Test')\n",
        "for i in a:\n",
        "  print(i)"
      ],
      "execution_count": 5,
      "outputs": [
        {
          "output_type": "stream",
          "text": [
            "1\n",
            "2\n",
            "3\n",
            "4\n",
            "1\n",
            "2\n",
            "3\n"
          ],
          "name": "stdout"
        }
      ]
    },
    {
      "cell_type": "code",
      "metadata": {
        "id": "1f0XJ_Gdx7RI",
        "colab_type": "code",
        "outputId": "5743b9e8-9a3e-4263-b0b8-ca7bb542b9e8",
        "colab": {
          "base_uri": "https://localhost:8080/",
          "height": 34
        }
      },
      "source": [
        "str='Queue'\n",
        "#l=str.split(',')\n",
        "#print(type(l))\n",
        "str1=list(str)\n",
        "print(str1)"
      ],
      "execution_count": 6,
      "outputs": [
        {
          "output_type": "stream",
          "text": [
            "['Q', 'u', 'e', 'u', 'e']\n"
          ],
          "name": "stdout"
        }
      ]
    },
    {
      "cell_type": "code",
      "metadata": {
        "id": "UjoTufOFyV1m",
        "colab_type": "code",
        "outputId": "8eb91377-4f6b-4b7d-e4ca-fa5098b98613",
        "colab": {
          "base_uri": "https://localhost:8080/",
          "height": 139
        }
      },
      "source": [
        "c=[1,2,3,4,5,6,7]\n",
        "x=c[:2]\n",
        "for j in x:\n",
        "  print(j)\n",
        "x=c[2:]\n",
        "for j in x:\n",
        "  print(j)"
      ],
      "execution_count": 7,
      "outputs": [
        {
          "output_type": "stream",
          "text": [
            "1\n",
            "2\n",
            "3\n",
            "4\n",
            "5\n",
            "6\n",
            "7\n"
          ],
          "name": "stdout"
        }
      ]
    },
    {
      "cell_type": "code",
      "metadata": {
        "id": "dPBZyXNRzP1E",
        "colab_type": "code",
        "outputId": "53efed19-c1cc-4a4e-c3cb-1d5b2929895b",
        "colab": {
          "base_uri": "https://localhost:8080/",
          "height": 86
        }
      },
      "source": [
        "##TUPLE\n",
        "x1=(1,2,3)\n",
        "x2=(1,2,3,4,5,6)\n",
        "print(x1[0])\n",
        "print(x2[0])\n",
        "print(x1+x2)\n",
        "x1=(1)*4\n",
        "print(x1)"
      ],
      "execution_count": 8,
      "outputs": [
        {
          "output_type": "stream",
          "text": [
            "1\n",
            "1\n",
            "(1, 2, 3, 1, 2, 3, 4, 5, 6)\n",
            "4\n"
          ],
          "name": "stdout"
        }
      ]
    },
    {
      "cell_type": "code",
      "metadata": {
        "id": "uieli6iq2jeb",
        "colab_type": "code",
        "outputId": "4f85cb95-186a-4650-9f83-e9b02cec17c5",
        "colab": {
          "base_uri": "https://localhost:8080/",
          "height": 34
        }
      },
      "source": [
        "##SETS\n",
        "y={1,2,3,1,1}\n",
        "print(y)"
      ],
      "execution_count": 9,
      "outputs": [
        {
          "output_type": "stream",
          "text": [
            "{1, 2, 3}\n"
          ],
          "name": "stdout"
        }
      ]
    },
    {
      "cell_type": "code",
      "metadata": {
        "id": "YVwS6IiE4BN-",
        "colab_type": "code",
        "outputId": "d39a69a7-e57c-46b0-bb60-7ca4648025c0",
        "colab": {
          "base_uri": "https://localhost:8080/",
          "height": 69
        }
      },
      "source": [
        "x3={1,2,3}\n",
        "y3={3,4,5}\n",
        "print(x3.union(y3))\n",
        "print(x3.difference(y3))\n",
        "print(y3.difference(x3))"
      ],
      "execution_count": 10,
      "outputs": [
        {
          "output_type": "stream",
          "text": [
            "{1, 2, 3, 4, 5}\n",
            "{1, 2}\n",
            "{4, 5}\n"
          ],
          "name": "stdout"
        }
      ]
    },
    {
      "cell_type": "code",
      "metadata": {
        "id": "U21gXUuh42Vw",
        "colab_type": "code",
        "outputId": "1ec1cfcf-6f8c-4156-9520-fbe44ebaa303",
        "colab": {
          "base_uri": "https://localhost:8080/",
          "height": 34
        }
      },
      "source": [
        "s=set([1,2,3])\n",
        "s.add(4)\n",
        "s"
      ],
      "execution_count": 11,
      "outputs": [
        {
          "output_type": "execute_result",
          "data": {
            "text/plain": [
              "{1, 2, 3, 4}"
            ]
          },
          "metadata": {
            "tags": []
          },
          "execution_count": 11
        }
      ]
    },
    {
      "cell_type": "code",
      "metadata": {
        "id": "GmVsN4sg5z_t",
        "colab_type": "code",
        "outputId": "9f72c6f4-a19e-4feb-ba00-f33ffa4cb822",
        "colab": {
          "base_uri": "https://localhost:8080/",
          "height": 104
        }
      },
      "source": [
        "##DICTIONARY\n",
        "x4={\n",
        "    'name':'AAV',\n",
        "    'branch':'CSE',\n",
        "    'college':'BIT'\n",
        "    }\n",
        "print(x4)\n",
        "print(x4.pop('branch'))\n",
        "x4.update(college='BIT-D')\n",
        "print(x4.keys())\n",
        "print(x4.values())\n",
        "print(x4.items())\n"
      ],
      "execution_count": 12,
      "outputs": [
        {
          "output_type": "stream",
          "text": [
            "{'name': 'AAV', 'branch': 'CSE', 'college': 'BIT'}\n",
            "CSE\n",
            "dict_keys(['name', 'college'])\n",
            "dict_values(['AAV', 'BIT-D'])\n",
            "dict_items([('name', 'AAV'), ('college', 'BIT-D')])\n"
          ],
          "name": "stdout"
        }
      ]
    },
    {
      "cell_type": "code",
      "metadata": {
        "id": "7Y-kFvfQ8VJt",
        "colab_type": "code",
        "outputId": "92f98dc0-99ab-43e9-b895-07de4befa917",
        "colab": {
          "base_uri": "https://localhost:8080/",
          "height": 34
        }
      },
      "source": [
        "#MAP lambda\n",
        "sq=lambda x:x*x\n",
        "l=[1,2,3,4,5]\n",
        "lis=list(map(sq,l))\n",
        "print(lis)"
      ],
      "execution_count": 13,
      "outputs": [
        {
          "output_type": "stream",
          "text": [
            "[1, 4, 9, 16, 25]\n"
          ],
          "name": "stdout"
        }
      ]
    },
    {
      "cell_type": "code",
      "metadata": {
        "id": "Ru7U-qkeDM9A",
        "colab_type": "code",
        "colab": {}
      },
      "source": [
        "#Map-Filter-Reduce"
      ],
      "execution_count": 0,
      "outputs": []
    },
    {
      "cell_type": "code",
      "metadata": {
        "id": "CFe5rhzCG_F1",
        "colab_type": "code",
        "outputId": "86595046-ba59-4036-f2be-d91fd19144ec",
        "colab": {
          "base_uri": "https://localhost:8080/",
          "height": 34
        }
      },
      "source": [
        "dup={1,2,1,1,3,4}\n",
        "final_list1=[]\n",
        "for num in dup:\n",
        "  if num not in final_list1:\n",
        "    final_list1.append(num)\n",
        "final_list1"
      ],
      "execution_count": 15,
      "outputs": [
        {
          "output_type": "execute_result",
          "data": {
            "text/plain": [
              "[1, 2, 3, 4]"
            ]
          },
          "metadata": {
            "tags": []
          },
          "execution_count": 15
        }
      ]
    },
    {
      "cell_type": "code",
      "metadata": {
        "id": "sHz26kRD7EAZ",
        "colab_type": "code",
        "outputId": "82ee792c-4eba-470e-965d-2e49172a4c01",
        "colab": {
          "base_uri": "https://localhost:8080/",
          "height": 34
        }
      },
      "source": [
        "str5=\"abcdEFgH\"\n",
        "str5n=\"\"\n",
        "for ch in str5:\n",
        "  chn=ord(ch)\n",
        "  if(chn>=97 and chn<=122):\n",
        "    str5n=str5n+chr(chn-32)\n",
        "  else:\n",
        "    str5n=str5n+chr(chn+32)\n",
        "print(str5n)"
      ],
      "execution_count": 16,
      "outputs": [
        {
          "output_type": "stream",
          "text": [
            "ABCDefGh\n"
          ],
          "name": "stdout"
        }
      ]
    },
    {
      "cell_type": "code",
      "metadata": {
        "id": "vPPahhr-8i9k",
        "colab_type": "code",
        "colab": {}
      },
      "source": [
        ""
      ],
      "execution_count": 0,
      "outputs": []
    }
  ]
}